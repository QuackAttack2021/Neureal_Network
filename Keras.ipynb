{
 "cells": [
  {
   "cell_type": "code",
   "execution_count": 5,
   "metadata": {},
   "outputs": [],
   "source": [
    "# imported packages\n",
    "import numpy as np\n",
    "import tensorflow as tf\n",
    "from tensorflow import keras"
   ]
  },
  {
   "cell_type": "code",
   "execution_count": 27,
   "metadata": {},
   "outputs": [],
   "source": [
    "# neural network algorithm\n",
    "class Neural_Network(object):\n",
    "    \n",
    "    # data for start point - inputs, weights and biases\n",
    "    def __init__(self, data, weights, biases):\n",
    "        self.data = data\n",
    "        self.weights = weights\n",
    "        self.biases = biases\n",
    "    \n",
    "    # create new hidden layer - calculate the next layer's neuron's values\n",
    "    def create_layer(self, data):\n",
    "        for neuron in data:\n",
    "            print(neuron)\n",
    "    \n",
    "    # create all hidden layers and return the output\n",
    "    def process():\n",
    "        output = None\n",
    "        return output\n",
    "            \n",
    "    # for debugging - return the final values of the calculation        \n",
    "    def __repr__(self):\n",
    "        return str({\n",
    "            'data': self.data,\n",
    "            'weights': self.weights,\n",
    "            'biases': self.biases\n",
    "        })"
   ]
  },
  {
   "cell_type": "code",
   "execution_count": 28,
   "metadata": {},
   "outputs": [
    {
     "name": "stdout",
     "output_type": "stream",
     "text": [
      "{'data': <tf.Tensor: shape=(2,), dtype=int32, numpy=array([1, 1])>, 'weights': <tf.Tensor: shape=(2, 2), dtype=int32, numpy=\n",
      "array([[2, 4],\n",
      "       [6, 8]])>, 'biases': <tf.Tensor: shape=(2, 2), dtype=float32, numpy=\n",
      "array([[0.25, 0.5 ],\n",
      "       [0.75, 1.  ]], dtype=float32)>}\n"
     ]
    }
   ],
   "source": [
    "data = tf.constant([1, 1])\n",
    "weights = tf.constant([[2, 4], [6, 8]])\n",
    "biases = tf.constant([[0.25, 0.5], [0.75, 1]])\n",
    "network = Neural_Network(data, weights, biases)\n",
    "print(network)"
   ]
  },
  {
   "cell_type": "code",
   "execution_count": 3,
   "metadata": {},
   "outputs": [],
   "source": [
    "import numpy as np\n",
    "layers1 = np.array([[1,2], [3,4]])"
   ]
  },
  {
   "cell_type": "code",
   "execution_count": null,
   "metadata": {},
   "outputs": [],
   "source": []
  }
 ],
 "metadata": {
  "kernelspec": {
   "display_name": "Python 3",
   "language": "python",
   "name": "python3"
  },
  "language_info": {
   "codemirror_mode": {
    "name": "ipython",
    "version": 3
   },
   "file_extension": ".py",
   "mimetype": "text/x-python",
   "name": "python",
   "nbconvert_exporter": "python",
   "pygments_lexer": "ipython3",
   "version": "3.8.5"
  }
 },
 "nbformat": 4,
 "nbformat_minor": 4
}
